{
 "cells": [
  {
   "cell_type": "code",
   "execution_count": 2,
   "metadata": {},
   "outputs": [],
   "source": [
    "import quantit as qtt\n",
    "import torch\n",
    "# constant values for the Hubbard hamiltonian\n",
    "U = torch.full([],7)\n",
    "mu = torch.full([],3)\n",
    "t = torch.full([],-2)\n"
   ]
  },
  {
   "cell_type": "markdown",
   "metadata": {},
   "source": [
    "# QuantiT\n",
    "\n",
    "QuantiT is an open-source library that implement tensors with conservation laws and selection rules and algorithms to manipulate such tensors. Such tensors are commonly used in tensor networks computation to exploit symmetry of a problem to increase efficiency and accuracy of a simulation.\n",
    "\n",
    "QuantiT is implemented in C++ and offers a python interface as well. Its tensors implementation is backed by that of pytorch, computation can easily done on any backend supported by pytorch, such as GPU and CPU."
   ]
  },
  {
   "cell_type": "markdown",
   "metadata": {},
   "source": [
    "## Why Tensor Networks?\n",
    "\n",
    "Tensor networks allow us to work with a compressed representation of wavefunction and operators. A well designed tensor network allow us to work and optimize the compressed representation without doing a complete decompression. It has proven successful so far: there are many commonly used networks that are applied to problem for which storing a complete representation of a wavefunction would require (several orders of magnitude) more memory than there is on earth.\n",
    "\n",
    "Let's explore a bit one of the simplest tensor network: the matrix product state."
   ]
  },
  {
   "cell_type": "markdown",
   "metadata": {},
   "source": [
    "## Fermions and tensor networks\n",
    "\n",
    "The Pauli exclusion principle make numerical representation of fermionic quantity a bit trickier than bosons.\n",
    "Pauli's principle translate mathematically into anticommutation relations for the annihilation and creation operators.\n",
    "In turn, this create two requirement for a numerical representation: a conventionnal ordering of space and a non-local action for the operators.\n",
    "\n",
    "When using tensor network, we need perfectly local representation for all our operators. Therefore, we must break apart the creation and annihilation operator into a combination of local components.\n",
    "\n",
    "Let's consider the spin-half case, we have the annihilation and creation operators $c_{i\\sigma}$ and $c_{i\\sigma}^\\dagger$ where $i$ is the position index, and $\\sigma$ the spin index.\n",
    "The anticommutation relations are $\\{c^\\dagger_{i\\sigma},c_{j\\sigma'}\\} = \\delta_{ij}\\delta_{\\sigma\\sigma'}$ and $\\{c_{i\\sigma},c_{j\\sigma'}\\} = 0$\n",
    "\n",
    "We break the operator appart like so:\n",
    "\n",
    "$ c_{i\\sigma} = (\\prod_{j=0}^{i-1} F_j)\\tilde{c}_{i\\sigma}$ \n",
    "\n",
    "\n",
    "where both $F_j$ and $\\tilde{c}_{i\\sigma}$ are completly local operator, meaning that they **commute** with any local operator that has a different position in space. \n",
    "In order to maintain the canonical anticomutation relations, we find that $\\tilde{c}_{j\\sigma}$ must anticommute with $F_j$, $\\tilde{c}_{j\\sigma}^2 = 0$, $F_i^2 = I$ and $\\{\\tilde{c}^\\dagger_{j\\sigma},\\tilde{c}_{j\\sigma'}\\} = \\delta_{\\sigma\\sigma'}$\n",
    "\n",
    "Putting all that together, we find that the solution for spin half fermions is this:"
   ]
  },
  {
   "cell_type": "code",
   "execution_count": 7,
   "metadata": {},
   "outputs": [
    {
     "name": "stdout",
     "output_type": "stream",
     "text": [
      "c_up\n",
      " tensor([[0, 1, 0, 0],\n",
      "        [0, 0, 0, 0],\n",
      "        [0, 0, 0, 1],\n",
      "        [0, 0, 0, 0]], dtype=torch.int8)\n",
      "c_dn\n",
      " tensor([[ 0,  0,  1,  0],\n",
      "        [ 0,  0,  0, -1],\n",
      "        [ 0,  0,  0,  0],\n",
      "        [ 0,  0,  0,  0]], dtype=torch.int8)\n",
      "F\n",
      " tensor([[ 1,  0,  0,  0],\n",
      "        [ 0, -1,  0,  0],\n",
      "        [ 0,  0, -1,  0],\n",
      "        [ 0,  0,  0,  1]], dtype=torch.int8)\n"
     ]
    }
   ],
   "source": [
    "c_up,c_dn,F,id = qtt.operators.fermions()\n",
    "c_dag_up = c_up.conj().permute([1,0])\n",
    "c_dag_dn = c_dn.conj().permute([1,0])\n",
    "print(\"c_up\\n\",c_up)\n",
    "print(\"c_dn\\n\",c_dn)\n",
    "print(\"F\\n\",F)"
   ]
  },
  {
   "cell_type": "code",
   "execution_count": null,
   "metadata": {},
   "outputs": [],
   "source": []
  }
 ],
 "metadata": {
  "interpreter": {
   "hash": "9ca837fb18a45579a0202e4984e1cb487fce692c0fd801a466e53d66267a23a7"
  },
  "kernelspec": {
   "display_name": "Python 3.9.10 64-bit ('3.9-dev')",
   "language": "python",
   "name": "python3"
  },
  "language_info": {
   "codemirror_mode": {
    "name": "ipython",
    "version": 3
   },
   "file_extension": ".py",
   "mimetype": "text/x-python",
   "name": "python",
   "nbconvert_exporter": "python",
   "pygments_lexer": "ipython3",
   "version": "3.9.10"
  },
  "orig_nbformat": 4
 },
 "nbformat": 4,
 "nbformat_minor": 2
}
