{
 "cells": [
  {
   "cell_type": "markdown",
   "metadata": {},
   "source": [
    "# Density Matrix Renormalization Group\n",
    "\n",
    "In this notebook we demonstrate the usage of the DMRG implementation of Quantit.\n",
    "\n",
    "\n",
    "We first define the MPO to optimize with the DMRG. We do so using both particle and z-axis spin conservation."
   ]
  },
  {
   "cell_type": "code",
   "execution_count": 1,
   "metadata": {},
   "outputs": [],
   "source": [
    "import quantit as qtt\n",
    "\n",
    "cval = qtt.conserved.ZZ # particle and spin\n",
    "\n",
    "U = 4\n",
    "mu = 2\n",
    "FermionShape = qtt.btensor([[(1,cval(0,0)),(1,cval(1,1)),(1,cval(1,-1)),(1,cval(2,0))]],cval(0,0))\n",
    "Hu = qtt.operators.Hubbard(U,mu,10,FermionShape)"
   ]
  },
  {
   "cell_type": "markdown",
   "metadata": {},
   "source": [
    "We first defined a shorthand for the conserved value we use: ZZ. To track both particle number and the spin, we need two integers.\n",
    "Then the parameter for the (Hubbard) hamiltonian, and an empty btensor to describe the shape of the local hilbert's space. Finaly we use *qtt.operators.Hubbard* to create a 10 site MPO using the parameters and hilbert space.\n",
    "\n",
    "Next we will make use the DMRG in a few different ways. First, without specifying an initial state:"
   ]
  },
  {
   "cell_type": "code",
   "execution_count": 2,
   "metadata": {},
   "outputs": [],
   "source": [
    "\n",
    "dmrg_opt = qtt.algorithms.dmrg_options()\n",
    "E, psi = qtt.algorithms.dmrg(Hu,cval(10,0),dmrg_opt)"
   ]
  },
  {
   "cell_type": "markdown",
   "metadata": {},
   "source": [
    "DMRG has quite a few adjustable parameters to control its behavior. Most notable are the *cutoff* and *convergence_criterion* which control the truncation of singular values and what precision on the energy is necessary before stopping the algorithm.\n",
    "\n",
    "In order to launch DMRG on a MPO of *qtt.btensor* we must tell it what is the desired selection rule for the MPS. Here we tell it to solve for 10 particles and 0 net spin. In output we get the energy, and the state in the form of a MPS.\n",
    "\n",
    "We can also launch DMRG with a starting state of out choice. In the following exemple we will use a randomly generated MPS like the one DMRG generated previously. You could use a carefully hand-built MPS if you wish."
   ]
  },
  {
   "cell_type": "code",
   "execution_count": 3,
   "metadata": {},
   "outputs": [],
   "source": [
    "init_state_8 = qtt.networks.random_MPS(10 ,4,FermionShape,cval(8,0))\n",
    "\n",
    "E_8 = qtt.algorithms.dmrg(Hu,init_state_8,dmrg_opt)"
   ]
  }
 ],
 "metadata": {
  "interpreter": {
   "hash": "9ca837fb18a45579a0202e4984e1cb487fce692c0fd801a466e53d66267a23a7"
  },
  "kernelspec": {
   "display_name": "Python 3.9.10 64-bit ('3.9-dev')",
   "language": "python",
   "name": "python3"
  },
  "language_info": {
   "codemirror_mode": {
    "name": "ipython",
    "version": 3
   },
   "file_extension": ".py",
   "mimetype": "text/x-python",
   "name": "python",
   "nbconvert_exporter": "python",
   "pygments_lexer": "ipython3",
   "version": "3.9.10+"
  },
  "orig_nbformat": 4
 },
 "nbformat": 4,
 "nbformat_minor": 2
}
