{
 "cells": [
  {
   "cell_type": "markdown",
   "metadata": {},
   "source": [
    "In this notebook, we construct manually the tensor for the 1D hubbard model. The purpose of this is to demonstrate the principles of the manual construction of a MPO.\n",
    "\n",
    "The MPO in question will make explicit use of particle number conservation in its structure.\n"
   ]
  },
  {
   "cell_type": "markdown",
   "metadata": {},
   "source": [
    "## Building a MPO\n",
    "\n",
    "The usual strategy when manually building a MPO is to view the rank 4 tensors that makes it up as a matrices of quantum operators, inserting elements in it such that a matrix product of many such matrices accumulates the Hamiltonian in the lower left corner.\n",
    "\n",
    "Within this framework, a translation invariant 1D Hubbard hamiltonian \n",
    "\n",
    "$$\n",
    "H = \\sum_{i \\sigma}\\left( -t (c^\\dagger_{i\\sigma} c_{i+1,\\sigma} + c^\\dagger_{i+1,\\sigma}c_{i\\sigma}) -\\mu n_{i\\sigma} + \\frac{U}{2} n_{i\\uparrow}n_{i\\downarrow} \\right)\n",
    "$$\n",
    "\n",
    "can be built from the following matrix of operators:\n",
    "\n",
    "\n",
    "$$\n",
    "\\newcommand{\\Id}{\\unicode{x1d7d9}}\n",
    "T_i = \\begin{array}{ c c c c c c}\n",
    " I & 0 & 0 & 0 & 0 & 0 \\\\\n",
    " \\tilde{c}_{i\\uparrow} & 0 & 0 & 0 & 0  & 0 \\\\\n",
    " \\tilde{c}_{i\\downarrow} & 0 & 0 & 0 & 0  & 0 \\\\\n",
    " \\tilde{c}_{i\\uparrow}^\\dagger & 0 & 0 & 0 & 0  & 0 \\\\\n",
    " \\tilde{c}_{i\\downarrow}^\\dagger & 0 & 0 & 0 & 0  & 0 \\\\\n",
    " U n_{i\\uparrow} n_{i\\downarrow} - \\mu (n_{i\\uparrow} + n_{i\\downarrow}) \n",
    " & t  F_i \\tilde{c}^\\dagger_{i\\uparrow} & t F_i \\tilde{c}_{i\\downarrow}^\\dagger  \n",
    " & t \\tilde{c}_{i\\uparrow} F_i & t \\tilde{c}_{i\\downarrow} F_i & I \\\\\n",
    "\\end{array}\n",
    "$$\n",
    "\n",
    "and the lower left corner of $T_i T_{i+1}$ is $ \\sum_{j = i}^{i+1} \\left( U n_{j\\uparrow} n_{j\\downarrow} - \\mu (n_{j\\uparrow} + n_{j\\downarrow})\\right) + \\sum_\\sigma -t \\left( \\tilde{c}_{i\\sigma}^\\dagger F_i \\tilde{c}_{i+1,\\sigma}  + \\tilde{c}_{i+1\\sigma}^\\dagger F_{i} \\tilde{c}_{i,\\sigma}\\right).$\n",
    "\n",
    "We will now construct this tensor using Quantit's tools.\n",
    "\n",
    "To do so we must first identify the conserved quantity to assign to each index. A conserving Hamiltonian always leaves a conserved quantity unchanged, its overall selection rule must be 0 in this case. What goes on the bonds is the inverse of the selection rule of the operator we have put there. \n",
    "The row must then have [0,1,1,-1,-1,0] and the columns [0,-1,-1,1,1,0]"
   ]
  },
  {
   "cell_type": "code",
   "execution_count": 14,
   "metadata": {},
   "outputs": [
    {
     "name": "stdout",
     "output_type": "stream",
     "text": [
      "btensor rank 1\n",
      " selection rule [Z(0)]\n",
      " number of sections by dim [3]\n",
      " sections sizes [1, 2, 1]\n",
      " sections conserved quantity [[Z(0)], [Z(1)], [Z(2)]]\n",
      "\n"
     ]
    }
   ],
   "source": [
    "import quantit as qtt\n",
    "\n",
    "\n",
    "pnum = qtt.conserved.Z;\n",
    "U = qtt.full([],pnum(0),6)\n",
    "mu = qtt.full([],pnum(0),3)\n",
    "t = qtt.full([],pnum(0),1)\n",
    "\n",
    "HS = qtt.btensor([[[1,pnum(0)],[2,pnum(1)],[1,pnum(2)]]],pnum(0))\n",
    "print(HS)\n"
   ]
  },
  {
   "cell_type": "markdown",
   "metadata": {},
   "source": [
    "First we defined a shorthand for the conserved value type and variables for the hamiltonian parameters.\n",
    "We then construct an empty btensor as a device to describe the local hilbert space of the electrons: one empty state, 2 states with one electron and one state with two electrons.\n",
    "\n",
    "Next, we use the *fermions* function from *quantit.operators* in tandem with the Hilbert space descriptor to generate the local fermions annihilation and phase operators with our choosen conservation law."
   ]
  },
  {
   "cell_type": "code",
   "execution_count": 16,
   "metadata": {},
   "outputs": [],
   "source": [
    "\n",
    "\n",
    "c_up,c_dn,F,id = qtt.operators.fermions(qtt.shape_from([HS,HS.conj()]))\n",
    "c_dag_up = c_up.conj().permute([1,0])\n",
    "c_dag_dn = c_dn.conj().permute([1,0])\n",
    "\n",
    "n_up = c_dag_up.bmm(c_up)\n",
    "n_dn = c_dag_dn.bmm(c_dn)\n",
    "\n",
    "H_l = -mu * (n_up + n_dn) + U*(n_up.bmm(n_dn))\n"
   ]
  },
  {
   "cell_type": "markdown",
   "metadata": {},
   "source": [
    "From the annihilation operators, we constructed the creation operator by applying conjugation (of complex number and conserved quantities) and transposing using *conj* and *permute* methods. Then, we prepared the number operator by performing matrix multiplication of creation and annihilation operator. Finally, we compute the local term of the Hubbard hamiltonian.\n",
    "\n",
    "Next, we prepare the description of the vector space for the MPO bonds and compose the bonds shape with the Hilbert space description into the shape of the tensor we will put in the MPO."
   ]
  },
  {
   "cell_type": "code",
   "execution_count": 17,
   "metadata": {},
   "outputs": [],
   "source": [
    "\n",
    "leftbond = qtt.btensor([[[1,pnum(0)],[2,pnum(1)],[2,pnum(-1)],[1,pnum(0)]]],pnum(0))\n",
    "rightbond = leftbond.conj()\n",
    "\n",
    "T = qtt.shape_from([leftbond,HS,rightbond,HS.conj()])"
   ]
  },
  {
   "cell_type": "markdown",
   "metadata": {},
   "source": [
    "Finally, we insert the operators in the MP. We first fill in the leftmost column, then the bottom row using *basic_index_put_*.\n",
    "\n",
    "This function takes a list of integer and a velue in the form of a *torch.tensor* or a *quantit btensor*. The value is put into a view on the whole tensor. A whole dimensiosn is kept when we give the index **-1** to that dimension. For exemple, *[0,-1,0,-1]* signify that we want to insert into the topleft element when the tensor is viewed as a matrix of operator.\n",
    "\n",
    "After we have inserted all the elements in T, we create a *quantit.networks.bMPO* (block-MPO) of 20 sites with the same T tensor at all sites. Then, some adjustement need to made on the edge tensor to account for the finiteness of the hamiltonian: we keep only the last row of the first tensor and the first column of the last tensor. We then us the *coalesce* method to optimize the block structure of the MPO. The choice to accumulate the hamiltonian in the lower left corner is practical for us to reason and prepare the tensor, but its not the most efficient way to organize the block tensor. *coalesce* does a gauge transform such that there's no two blocks within a tensor with exactly the same conserved value combination on its dimensions."
   ]
  },
  {
   "cell_type": "code",
   "execution_count": 18,
   "metadata": {},
   "outputs": [
    {
     "data": {
      "text/plain": [
       "<quantit.quantit.networks.bMPO at 0x7f198fb2ebf0>"
      ]
     },
     "execution_count": 18,
     "metadata": {},
     "output_type": "execute_result"
    }
   ],
   "source": [
    "T.basic_index_put_([0,-1,0,-1], id)\n",
    "T.basic_index_put_([1,-1,0,-1], c_up)\n",
    "T.basic_index_put_([2,-1,0,-1], c_dn)\n",
    "T.basic_index_put_([3,-1,0,-1], c_dag_up)\n",
    "T.basic_index_put_([4,-1,0,-1], c_dag_dn)\n",
    "T.basic_index_put_([5,-1,0,-1], H_l)\n",
    "T.basic_index_put_([5,-1,1,-1], t*F.bmm(c_dag_up))\n",
    "T.basic_index_put_([5,-1,2,-1], t*F.bmm(c_dag_dn))\n",
    "T.basic_index_put_([5,-1,3,-1], t*qtt.bmm(c_up,F))\n",
    "T.basic_index_put_([5,-1,4,-1], t*qtt.bmm(c_dn,F))\n",
    "T.basic_index_put_([5,-1,5,-1], id)\n",
    "\n",
    "\n",
    "H = qtt.networks.bMPO(20,T)\n",
    "H[0] = H[0].basic_create_view([5,-1,-1,-1],preserve_rank=True)\n",
    "H[19] = H[19].basic_create_view([-1,-1,0,-1],preserve_rank=True)\n",
    "H.coalesce()"
   ]
  }
 ],
 "metadata": {
  "interpreter": {
   "hash": "9ca837fb18a45579a0202e4984e1cb487fce692c0fd801a466e53d66267a23a7"
  },
  "kernelspec": {
   "display_name": "Python 3.9.10 64-bit ('3.9-dev')",
   "language": "python",
   "name": "python3"
  },
  "language_info": {
   "codemirror_mode": {
    "name": "ipython",
    "version": 3
   },
   "file_extension": ".py",
   "mimetype": "text/x-python",
   "name": "python",
   "nbconvert_exporter": "python",
   "pygments_lexer": "ipython3",
   "version": "3.9.10+"
  },
  "orig_nbformat": 4
 },
 "nbformat": 4,
 "nbformat_minor": 2
}
